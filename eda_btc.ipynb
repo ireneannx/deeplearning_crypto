{
 "cells": [
  {
   "cell_type": "code",
   "execution_count": 1,
   "metadata": {},
   "outputs": [],
   "source": [
    "import warnings\n",
    "import numpy as np\n",
    "import pandas as pd\n",
    "from typing import List\n",
    "import matplotlib.pyplot as plt \n",
    "from tensorflow.keras import Sequential\n",
    "from tensorflow.keras.layers import Dense, Dropout, LSTM\n",
    "from tensorflow.keras import backend as be\n",
    "from tensorflow.keras.callbacks import ModelCheckpoint, LearningRateScheduler\n",
    "from tensorflow.keras.optimizers import Adam\n",
    "from tensorflow.math import exp\n",
    "import tensorflow\n",
    "from numpy.random import seed\n",
    "seed(5432)\n",
    "tensorflow.random.set_seed(5432)"
   ]
  },
  {
   "cell_type": "markdown",
   "metadata": {},
   "source": [
    "## Inspect data"
   ]
  },
  {
   "cell_type": "code",
   "execution_count": 2,
   "metadata": {},
   "outputs": [
    {
     "name": "stdout",
     "output_type": "stream",
     "text": [
      "(82969, 7)\n",
      "[<class 'pandas._libs.tslibs.timestamps.Timestamp'>, <class 'numpy.float64'>, <class 'numpy.float64'>, <class 'numpy.float64'>, <class 'numpy.float64'>, <class 'numpy.float64'>]\n"
     ]
    },
    {
     "data": {
      "text/html": [
       "<div>\n",
       "<style scoped>\n",
       "    .dataframe tbody tr th:only-of-type {\n",
       "        vertical-align: middle;\n",
       "    }\n",
       "\n",
       "    .dataframe tbody tr th {\n",
       "        vertical-align: top;\n",
       "    }\n",
       "\n",
       "    .dataframe thead th {\n",
       "        text-align: right;\n",
       "    }\n",
       "</style>\n",
       "<table border=\"1\" class=\"dataframe\">\n",
       "  <thead>\n",
       "    <tr style=\"text-align: right;\">\n",
       "      <th></th>\n",
       "      <th>date</th>\n",
       "      <th>Open</th>\n",
       "      <th>High</th>\n",
       "      <th>Low</th>\n",
       "      <th>Close</th>\n",
       "      <th>Volume</th>\n",
       "      <th>Return</th>\n",
       "    </tr>\n",
       "  </thead>\n",
       "  <tbody>\n",
       "    <tr>\n",
       "      <th>0</th>\n",
       "      <td>2013-04-01 00:00:00</td>\n",
       "      <td>93.155</td>\n",
       "      <td>93.155</td>\n",
       "      <td>93.155</td>\n",
       "      <td>93.155</td>\n",
       "      <td>12.250</td>\n",
       "      <td>0.000000</td>\n",
       "    </tr>\n",
       "    <tr>\n",
       "      <th>4</th>\n",
       "      <td>2013-04-01 01:00:00</td>\n",
       "      <td>93.789</td>\n",
       "      <td>93.790</td>\n",
       "      <td>93.789</td>\n",
       "      <td>93.790</td>\n",
       "      <td>15.659</td>\n",
       "      <td>0.006817</td>\n",
       "    </tr>\n",
       "    <tr>\n",
       "      <th>6</th>\n",
       "      <td>2013-04-01 02:00:00</td>\n",
       "      <td>94.000</td>\n",
       "      <td>94.000</td>\n",
       "      <td>94.000</td>\n",
       "      <td>94.000</td>\n",
       "      <td>36.750</td>\n",
       "      <td>0.002239</td>\n",
       "    </tr>\n",
       "  </tbody>\n",
       "</table>\n",
       "</div>"
      ],
      "text/plain": [
       "                 date    Open    High     Low   Close  Volume    Return\n",
       "0 2013-04-01 00:00:00  93.155  93.155  93.155  93.155  12.250  0.000000\n",
       "4 2013-04-01 01:00:00  93.789  93.790  93.789  93.790  15.659  0.006817\n",
       "6 2013-04-01 02:00:00  94.000  94.000  94.000  94.000  36.750  0.002239"
      ]
     },
     "execution_count": 2,
     "metadata": {},
     "output_type": "execute_result"
    }
   ],
   "source": [
    "DIR = \"Crypto_data_minute/\"\n",
    "FILE = \"BTC_1min.txt\"\n",
    "COLUMNS = [\"date\", \"Open\", \"High\", \"Low\", \"Close\", \"Volume\"]\n",
    "path = DIR + FILE\n",
    "df = pd.read_csv(path, names=COLUMNS)\n",
    "df[\"date\"] = pd.to_datetime(df[\"date\"])\n",
    "\n",
    "# keep recoreds only to hourly based\n",
    "df[\"date\"] = df[\"date\"].dt.round(\"H\")\n",
    "df = df.drop_duplicates(subset=[\"date\"], keep=\"last\")  # drop duplicates after rounded to hourly based\n",
    "\n",
    "# calculate return\n",
    "df[\"Return\"] = df[\"Close\"].pct_change()\n",
    "df[\"Return\"] = df[\"Return\"].fillna(0)\n",
    "\n",
    "print(df.shape)\n",
    "print([type(df[col][0]) for col in COLUMNS])\n",
    "# print(df.columns)\n",
    "df.head(3)"
   ]
  },
  {
   "cell_type": "code",
   "execution_count": 3,
   "metadata": {},
   "outputs": [
    {
     "data": {
      "text/html": [
       "<div>\n",
       "<style scoped>\n",
       "    .dataframe tbody tr th:only-of-type {\n",
       "        vertical-align: middle;\n",
       "    }\n",
       "\n",
       "    .dataframe tbody tr th {\n",
       "        vertical-align: top;\n",
       "    }\n",
       "\n",
       "    .dataframe thead th {\n",
       "        text-align: right;\n",
       "    }\n",
       "</style>\n",
       "<table border=\"1\" class=\"dataframe\">\n",
       "  <thead>\n",
       "    <tr style=\"text-align: right;\">\n",
       "      <th></th>\n",
       "      <th>date</th>\n",
       "      <th>Open</th>\n",
       "      <th>High</th>\n",
       "      <th>Low</th>\n",
       "      <th>Close</th>\n",
       "      <th>Volume</th>\n",
       "      <th>Return</th>\n",
       "    </tr>\n",
       "  </thead>\n",
       "  <tbody>\n",
       "    <tr>\n",
       "      <th>0</th>\n",
       "      <td>2013-04-01 00:00:00</td>\n",
       "      <td>93.155</td>\n",
       "      <td>93.155</td>\n",
       "      <td>93.155</td>\n",
       "      <td>93.155</td>\n",
       "      <td>12.250000</td>\n",
       "      <td>0.000000</td>\n",
       "    </tr>\n",
       "    <tr>\n",
       "      <th>4</th>\n",
       "      <td>2013-04-01 01:00:00</td>\n",
       "      <td>93.789</td>\n",
       "      <td>93.790</td>\n",
       "      <td>93.789</td>\n",
       "      <td>93.790</td>\n",
       "      <td>15.659000</td>\n",
       "      <td>0.006817</td>\n",
       "    </tr>\n",
       "    <tr>\n",
       "      <th>6</th>\n",
       "      <td>2013-04-01 02:00:00</td>\n",
       "      <td>94.000</td>\n",
       "      <td>94.000</td>\n",
       "      <td>94.000</td>\n",
       "      <td>94.000</td>\n",
       "      <td>36.750000</td>\n",
       "      <td>0.002239</td>\n",
       "    </tr>\n",
       "    <tr>\n",
       "      <th>10</th>\n",
       "      <td>2013-04-01 03:00:00</td>\n",
       "      <td>94.000</td>\n",
       "      <td>94.000</td>\n",
       "      <td>94.000</td>\n",
       "      <td>94.000</td>\n",
       "      <td>0.245000</td>\n",
       "      <td>0.000000</td>\n",
       "    </tr>\n",
       "    <tr>\n",
       "      <th>12</th>\n",
       "      <td>2013-04-01 04:00:00</td>\n",
       "      <td>93.550</td>\n",
       "      <td>93.550</td>\n",
       "      <td>93.550</td>\n",
       "      <td>93.550</td>\n",
       "      <td>4.900000</td>\n",
       "      <td>-0.004787</td>\n",
       "    </tr>\n",
       "    <tr>\n",
       "      <th>...</th>\n",
       "      <td>...</td>\n",
       "      <td>...</td>\n",
       "      <td>...</td>\n",
       "      <td>...</td>\n",
       "      <td>...</td>\n",
       "      <td>...</td>\n",
       "      <td>...</td>\n",
       "    </tr>\n",
       "    <tr>\n",
       "      <th>4239821</th>\n",
       "      <td>2022-09-30 20:00:00</td>\n",
       "      <td>19497.050</td>\n",
       "      <td>19498.790</td>\n",
       "      <td>19444.350</td>\n",
       "      <td>19456.040</td>\n",
       "      <td>35.090153</td>\n",
       "      <td>-0.014137</td>\n",
       "    </tr>\n",
       "    <tr>\n",
       "      <th>4239880</th>\n",
       "      <td>2022-09-30 21:00:00</td>\n",
       "      <td>19400.860</td>\n",
       "      <td>19417.000</td>\n",
       "      <td>19398.470</td>\n",
       "      <td>19406.520</td>\n",
       "      <td>17.187888</td>\n",
       "      <td>-0.002545</td>\n",
       "    </tr>\n",
       "    <tr>\n",
       "      <th>4239941</th>\n",
       "      <td>2022-09-30 22:00:00</td>\n",
       "      <td>19367.200</td>\n",
       "      <td>19375.000</td>\n",
       "      <td>19323.570</td>\n",
       "      <td>19337.000</td>\n",
       "      <td>59.104278</td>\n",
       "      <td>-0.003582</td>\n",
       "    </tr>\n",
       "    <tr>\n",
       "      <th>4240000</th>\n",
       "      <td>2022-09-30 23:00:00</td>\n",
       "      <td>19436.400</td>\n",
       "      <td>19466.000</td>\n",
       "      <td>19433.250</td>\n",
       "      <td>19451.500</td>\n",
       "      <td>21.273027</td>\n",
       "      <td>0.005921</td>\n",
       "    </tr>\n",
       "    <tr>\n",
       "      <th>4240030</th>\n",
       "      <td>2022-10-01 00:00:00</td>\n",
       "      <td>19425.200</td>\n",
       "      <td>19425.200</td>\n",
       "      <td>19425.200</td>\n",
       "      <td>19425.200</td>\n",
       "      <td>0.000257</td>\n",
       "      <td>-0.001352</td>\n",
       "    </tr>\n",
       "  </tbody>\n",
       "</table>\n",
       "<p>82969 rows × 7 columns</p>\n",
       "</div>"
      ],
      "text/plain": [
       "                       date       Open       High        Low      Close  \\\n",
       "0       2013-04-01 00:00:00     93.155     93.155     93.155     93.155   \n",
       "4       2013-04-01 01:00:00     93.789     93.790     93.789     93.790   \n",
       "6       2013-04-01 02:00:00     94.000     94.000     94.000     94.000   \n",
       "10      2013-04-01 03:00:00     94.000     94.000     94.000     94.000   \n",
       "12      2013-04-01 04:00:00     93.550     93.550     93.550     93.550   \n",
       "...                     ...        ...        ...        ...        ...   \n",
       "4239821 2022-09-30 20:00:00  19497.050  19498.790  19444.350  19456.040   \n",
       "4239880 2022-09-30 21:00:00  19400.860  19417.000  19398.470  19406.520   \n",
       "4239941 2022-09-30 22:00:00  19367.200  19375.000  19323.570  19337.000   \n",
       "4240000 2022-09-30 23:00:00  19436.400  19466.000  19433.250  19451.500   \n",
       "4240030 2022-10-01 00:00:00  19425.200  19425.200  19425.200  19425.200   \n",
       "\n",
       "            Volume    Return  \n",
       "0        12.250000  0.000000  \n",
       "4        15.659000  0.006817  \n",
       "6        36.750000  0.002239  \n",
       "10        0.245000  0.000000  \n",
       "12        4.900000 -0.004787  \n",
       "...            ...       ...  \n",
       "4239821  35.090153 -0.014137  \n",
       "4239880  17.187888 -0.002545  \n",
       "4239941  59.104278 -0.003582  \n",
       "4240000  21.273027  0.005921  \n",
       "4240030   0.000257 -0.001352  \n",
       "\n",
       "[82969 rows x 7 columns]"
      ]
     },
     "execution_count": 3,
     "metadata": {},
     "output_type": "execute_result"
    }
   ],
   "source": [
    "df = df.drop_duplicates(subset=[\"date\"], keep=\"last\")\n",
    "df"
   ]
  },
  {
   "cell_type": "code",
   "execution_count": 4,
   "metadata": {},
   "outputs": [],
   "source": [
    "def plot_time_series(df, y):\n",
    "    plt.plot(df.index, df[y])\n",
    "    plt.show()"
   ]
  },
  {
   "cell_type": "code",
   "execution_count": 5,
   "metadata": {},
   "outputs": [
    {
     "data": {
      "image/png": "[encoded data removed]",
      "text/plain": [
       "<Figure size 640x480 with 1 Axes>"
      ]
     },
     "metadata": {},
     "output_type": "display_data"
    }
   ],
   "source": [
    "plot_time_series(df, \"Close\")"
   ]
  },
  {
   "cell_type": "code",
   "execution_count": 6,
   "metadata": {},
   "outputs": [
    {
     "name": "stderr",
     "output_type": "stream",
     "text": [
      "/var/folders/q3/l71dn7zj09v3p5_flgkbx0fw0000gn/T/ipykernel_30003/4170282053.py:10: FutureWarning: The behavior of `series[i:j]` with an integer-dtype index is deprecated. In a future version, this will be treated as *label-based* indexing, consistent with e.g. `series[i]` lookups. To retain the old behavior, use `series.iloc[i:j]`. To get the future behavior, use `series.loc[i:j]`.\n",
      "  plot_features.index = date_time[:n_smaple]\n"
     ]
    },
    {
     "data": {
      "image/png": "[encoded data removed]",
      "text/plain": [
       "<Figure size 640x480 with 3 Axes>"
      ]
     },
     "metadata": {},
     "output_type": "display_data"
    },
    {
     "data": {
      "image/png": "[encoded data removed]",
      "text/plain": [
       "<Figure size 640x480 with 3 Axes>"
      ]
     },
     "metadata": {},
     "output_type": "display_data"
    }
   ],
   "source": [
    "date_time = df[\"date\"]\n",
    "\n",
    "plot_cols = ['Close', 'Volume', 'Return']\n",
    "plot_features = df[plot_cols]\n",
    "plot_features.index = date_time\n",
    "_ = plot_features.plot(subplots=True)\n",
    "\n",
    "n_smaple = 480\n",
    "plot_features = df[plot_cols][:n_smaple]\n",
    "plot_features.index = date_time[:n_smaple]\n",
    "_ = plot_features.plot(subplots=True)"
   ]
  },
  {
   "cell_type": "markdown",
   "metadata": {},
   "source": [
    "## Process Datetime columns"
   ]
  },
  {
   "cell_type": "code",
   "execution_count": 7,
   "metadata": {},
   "outputs": [],
   "source": [
    "# Ensure column \"Open Time\" is in type datetime\n",
    "def process_date(d):\n",
    "    \n",
    "    df = d.copy()\n",
    "    \n",
    "    df[\"year\"] = df[\"date\"].dt.year\n",
    "    df[\"month\"] = df[\"date\"].dt.month\n",
    "    df[\"day\"] = df[\"date\"].dt.day\n",
    "    df[\"hour\"] = df[\"date\"].dt.hour\n",
    "    df[\"minute\"] = df[\"date\"].dt.minute\n",
    "    df[\"dayofweek\"] = df[\"date\"].dt.dayofweek\n",
    "\n",
    "    df = df.set_index(df.date)\n",
    "    df = df.drop(\"date\", axis=1)\n",
    "    # df = df.drop(\"Open Time\", axis=1)\n",
    "    # df = df.drop(\"Open Time.1\", axis=1)\n",
    "    \n",
    "    return df\n",
    "\n",
    "\n",
    "# keep only features for training\n",
    "def drop_unrequire_col(d, columns: List):\n",
    "    \n",
    "    df = d.copy()\n",
    "    df = df[columns]\n",
    "    \n",
    "    return df"
   ]
  },
  {
   "cell_type": "code",
   "execution_count": 8,
   "metadata": {},
   "outputs": [
    {
     "name": "stdout",
     "output_type": "stream",
     "text": [
      "(82969, 8)\n"
     ]
    },
    {
     "data": {
      "text/html": [
       "<div>\n",
       "<style scoped>\n",
       "    .dataframe tbody tr th:only-of-type {\n",
       "        vertical-align: middle;\n",
       "    }\n",
       "\n",
       "    .dataframe tbody tr th {\n",
       "        vertical-align: top;\n",
       "    }\n",
       "\n",
       "    .dataframe thead th {\n",
       "        text-align: right;\n",
       "    }\n",
       "</style>\n",
       "<table border=\"1\" class=\"dataframe\">\n",
       "  <thead>\n",
       "    <tr style=\"text-align: right;\">\n",
       "      <th></th>\n",
       "      <th>Volume</th>\n",
       "      <th>Return</th>\n",
       "      <th>year</th>\n",
       "      <th>month</th>\n",
       "      <th>day</th>\n",
       "      <th>dayofweek</th>\n",
       "      <th>hour</th>\n",
       "      <th>minute</th>\n",
       "    </tr>\n",
       "    <tr>\n",
       "      <th>date</th>\n",
       "      <th></th>\n",
       "      <th></th>\n",
       "      <th></th>\n",
       "      <th></th>\n",
       "      <th></th>\n",
       "      <th></th>\n",
       "      <th></th>\n",
       "      <th></th>\n",
       "    </tr>\n",
       "  </thead>\n",
       "  <tbody>\n",
       "    <tr>\n",
       "      <th>2013-04-01 00:00:00</th>\n",
       "      <td>12.250</td>\n",
       "      <td>0.000000</td>\n",
       "      <td>2013</td>\n",
       "      <td>4</td>\n",
       "      <td>1</td>\n",
       "      <td>0</td>\n",
       "      <td>0</td>\n",
       "      <td>0</td>\n",
       "    </tr>\n",
       "    <tr>\n",
       "      <th>2013-04-01 01:00:00</th>\n",
       "      <td>15.659</td>\n",
       "      <td>0.006817</td>\n",
       "      <td>2013</td>\n",
       "      <td>4</td>\n",
       "      <td>1</td>\n",
       "      <td>0</td>\n",
       "      <td>1</td>\n",
       "      <td>0</td>\n",
       "    </tr>\n",
       "    <tr>\n",
       "      <th>2013-04-01 02:00:00</th>\n",
       "      <td>36.750</td>\n",
       "      <td>0.002239</td>\n",
       "      <td>2013</td>\n",
       "      <td>4</td>\n",
       "      <td>1</td>\n",
       "      <td>0</td>\n",
       "      <td>2</td>\n",
       "      <td>0</td>\n",
       "    </tr>\n",
       "    <tr>\n",
       "      <th>2013-04-01 03:00:00</th>\n",
       "      <td>0.245</td>\n",
       "      <td>0.000000</td>\n",
       "      <td>2013</td>\n",
       "      <td>4</td>\n",
       "      <td>1</td>\n",
       "      <td>0</td>\n",
       "      <td>3</td>\n",
       "      <td>0</td>\n",
       "    </tr>\n",
       "    <tr>\n",
       "      <th>2013-04-01 04:00:00</th>\n",
       "      <td>4.900</td>\n",
       "      <td>-0.004787</td>\n",
       "      <td>2013</td>\n",
       "      <td>4</td>\n",
       "      <td>1</td>\n",
       "      <td>0</td>\n",
       "      <td>4</td>\n",
       "      <td>0</td>\n",
       "    </tr>\n",
       "  </tbody>\n",
       "</table>\n",
       "</div>"
      ],
      "text/plain": [
       "                     Volume    Return  year  month  day  dayofweek  hour  \\\n",
       "date                                                                       \n",
       "2013-04-01 00:00:00  12.250  0.000000  2013      4    1          0     0   \n",
       "2013-04-01 01:00:00  15.659  0.006817  2013      4    1          0     1   \n",
       "2013-04-01 02:00:00  36.750  0.002239  2013      4    1          0     2   \n",
       "2013-04-01 03:00:00   0.245  0.000000  2013      4    1          0     3   \n",
       "2013-04-01 04:00:00   4.900 -0.004787  2013      4    1          0     4   \n",
       "\n",
       "                     minute  \n",
       "date                         \n",
       "2013-04-01 00:00:00       0  \n",
       "2013-04-01 01:00:00       0  \n",
       "2013-04-01 02:00:00       0  \n",
       "2013-04-01 03:00:00       0  \n",
       "2013-04-01 04:00:00       0  "
      ]
     },
     "execution_count": 8,
     "metadata": {},
     "output_type": "execute_result"
    }
   ],
   "source": [
    "columns = [\"Volume\", \"Return\",\n",
    "           \"year\", \"month\", \"day\", \"dayofweek\", \"hour\", \"minute\"]\n",
    "\n",
    "df = df.pipe(process_date) \\\n",
    "       .pipe(drop_unrequire_col, columns)\n",
    "\n",
    "print(df.shape)\n",
    "df.head(5)"
   ]
  },
  {
   "cell_type": "markdown",
   "metadata": {},
   "source": [
    "## Building Models"
   ]
  },
  {
   "cell_type": "code",
   "execution_count": 9,
   "metadata": {},
   "outputs": [
    {
     "name": "stdout",
     "output_type": "stream",
     "text": [
      "(66375, 8) (8297, 8) (8297, 8)\n"
     ]
    }
   ],
   "source": [
    "from sklearn.model_selection import train_test_split\n",
    "\n",
    "X_train, X_else, y_train, y_else = train_test_split(df, df[\"Return\"], test_size=0.2, shuffle=False)\n",
    "X_valid, X_test, y_valid, y_test = train_test_split(X_else, y_else, test_size=0.5, shuffle=False)\n",
    "\n",
    "# inspect the shapes\n",
    "print(X_train.shape, X_valid.shape, X_test.shape)"
   ]
  },
  {
   "cell_type": "code",
   "execution_count": 10,
   "metadata": {},
   "outputs": [],
   "source": [
    "from sklearn.preprocessing import MinMaxScaler\n",
    "import warnings\n",
    "from sklearn.exceptions import DataConversionWarning\n",
    "warnings.filterwarnings(action='ignore', category=DataConversionWarning)\n",
    "# I literally hate when a standard Scikit function throws big bunches of warnings \n",
    "# - though suppressing them is a dangerous practice. Hence this comment. \n",
    "\n",
    "def minmax_scale(df_x, series_y, normalizers=None):\n",
    "    features_to_minmax = [\"year\", \"Volume\", \"Return\"]\n",
    "\n",
    "    if not normalizers:\n",
    "        normalizers = {}\n",
    "\n",
    "    for feat in features_to_minmax:\n",
    "        if feat not in normalizers:\n",
    "            normalizers[feat] = MinMaxScaler()\n",
    "            normalizers[feat].fit(df_x[feat].values.reshape(-1, 1))\n",
    "        \n",
    "        df_x[feat] = normalizers[feat].transform(df_x[feat].values.reshape(-1, 1))\n",
    "\n",
    "    series_y=normalizers[\"Return\"].transform(series_y.values.reshape(-1, 1))\n",
    "\n",
    "    return df_x, series_y, normalizers"
   ]
  },
  {
   "cell_type": "code",
   "execution_count": 11,
   "metadata": {},
   "outputs": [],
   "source": [
    "X_train_norm, y_train_norm, normalizers = minmax_scale(X_train, y_train)\n",
    "X_valid_norm, y_valid_norm, _ = minmax_scale(X_valid, y_valid, normalizers=normalizers)\n",
    "X_test_norm, y_test_norm, _ = minmax_scale(X_test, y_test, normalizers=normalizers)"
   ]
  },
  {
   "cell_type": "code",
   "execution_count": 12,
   "metadata": {},
   "outputs": [
    {
     "data": {
      "text/html": [
       "<div>\n",
       "<style scoped>\n",
       "    .dataframe tbody tr th:only-of-type {\n",
       "        vertical-align: middle;\n",
       "    }\n",
       "\n",
       "    .dataframe tbody tr th {\n",
       "        vertical-align: top;\n",
       "    }\n",
       "\n",
       "    .dataframe thead th {\n",
       "        text-align: right;\n",
       "    }\n",
       "</style>\n",
       "<table border=\"1\" class=\"dataframe\">\n",
       "  <thead>\n",
       "    <tr style=\"text-align: right;\">\n",
       "      <th></th>\n",
       "      <th>Volume</th>\n",
       "      <th>Return</th>\n",
       "      <th>year</th>\n",
       "      <th>month</th>\n",
       "      <th>day</th>\n",
       "      <th>dayofweek</th>\n",
       "      <th>hour</th>\n",
       "      <th>minute</th>\n",
       "    </tr>\n",
       "    <tr>\n",
       "      <th>date</th>\n",
       "      <th></th>\n",
       "      <th></th>\n",
       "      <th></th>\n",
       "      <th></th>\n",
       "      <th></th>\n",
       "      <th></th>\n",
       "      <th></th>\n",
       "      <th></th>\n",
       "    </tr>\n",
       "  </thead>\n",
       "  <tbody>\n",
       "    <tr>\n",
       "      <th>2013-04-01 00:00:00</th>\n",
       "      <td>0.001487</td>\n",
       "      <td>0.530868</td>\n",
       "      <td>0.0</td>\n",
       "      <td>4</td>\n",
       "      <td>1</td>\n",
       "      <td>0</td>\n",
       "      <td>0</td>\n",
       "      <td>0</td>\n",
       "    </tr>\n",
       "    <tr>\n",
       "      <th>2013-04-01 01:00:00</th>\n",
       "      <td>0.001901</td>\n",
       "      <td>0.542849</td>\n",
       "      <td>0.0</td>\n",
       "      <td>4</td>\n",
       "      <td>1</td>\n",
       "      <td>0</td>\n",
       "      <td>1</td>\n",
       "      <td>0</td>\n",
       "    </tr>\n",
       "    <tr>\n",
       "      <th>2013-04-01 02:00:00</th>\n",
       "      <td>0.004460</td>\n",
       "      <td>0.534803</td>\n",
       "      <td>0.0</td>\n",
       "      <td>4</td>\n",
       "      <td>1</td>\n",
       "      <td>0</td>\n",
       "      <td>2</td>\n",
       "      <td>0</td>\n",
       "    </tr>\n",
       "    <tr>\n",
       "      <th>2013-04-01 03:00:00</th>\n",
       "      <td>0.000030</td>\n",
       "      <td>0.530868</td>\n",
       "      <td>0.0</td>\n",
       "      <td>4</td>\n",
       "      <td>1</td>\n",
       "      <td>0</td>\n",
       "      <td>3</td>\n",
       "      <td>0</td>\n",
       "    </tr>\n",
       "    <tr>\n",
       "      <th>2013-04-01 04:00:00</th>\n",
       "      <td>0.000595</td>\n",
       "      <td>0.522453</td>\n",
       "      <td>0.0</td>\n",
       "      <td>4</td>\n",
       "      <td>1</td>\n",
       "      <td>0</td>\n",
       "      <td>4</td>\n",
       "      <td>0</td>\n",
       "    </tr>\n",
       "    <tr>\n",
       "      <th>...</th>\n",
       "      <td>...</td>\n",
       "      <td>...</td>\n",
       "      <td>...</td>\n",
       "      <td>...</td>\n",
       "      <td>...</td>\n",
       "      <td>...</td>\n",
       "      <td>...</td>\n",
       "      <td>...</td>\n",
       "    </tr>\n",
       "    <tr>\n",
       "      <th>2020-11-08 10:00:00</th>\n",
       "      <td>0.001800</td>\n",
       "      <td>0.542132</td>\n",
       "      <td>1.0</td>\n",
       "      <td>11</td>\n",
       "      <td>8</td>\n",
       "      <td>6</td>\n",
       "      <td>10</td>\n",
       "      <td>0</td>\n",
       "    </tr>\n",
       "    <tr>\n",
       "      <th>2020-11-08 11:00:00</th>\n",
       "      <td>0.003983</td>\n",
       "      <td>0.540445</td>\n",
       "      <td>1.0</td>\n",
       "      <td>11</td>\n",
       "      <td>8</td>\n",
       "      <td>6</td>\n",
       "      <td>11</td>\n",
       "      <td>0</td>\n",
       "    </tr>\n",
       "    <tr>\n",
       "      <th>2020-11-08 12:00:00</th>\n",
       "      <td>0.002339</td>\n",
       "      <td>0.541433</td>\n",
       "      <td>1.0</td>\n",
       "      <td>11</td>\n",
       "      <td>8</td>\n",
       "      <td>6</td>\n",
       "      <td>12</td>\n",
       "      <td>0</td>\n",
       "    </tr>\n",
       "    <tr>\n",
       "      <th>2020-11-08 13:00:00</th>\n",
       "      <td>0.003509</td>\n",
       "      <td>0.523948</td>\n",
       "      <td>1.0</td>\n",
       "      <td>11</td>\n",
       "      <td>8</td>\n",
       "      <td>6</td>\n",
       "      <td>13</td>\n",
       "      <td>0</td>\n",
       "    </tr>\n",
       "    <tr>\n",
       "      <th>2020-11-08 14:00:00</th>\n",
       "      <td>0.000982</td>\n",
       "      <td>0.543467</td>\n",
       "      <td>1.0</td>\n",
       "      <td>11</td>\n",
       "      <td>8</td>\n",
       "      <td>6</td>\n",
       "      <td>14</td>\n",
       "      <td>0</td>\n",
       "    </tr>\n",
       "  </tbody>\n",
       "</table>\n",
       "<p>66375 rows × 8 columns</p>\n",
       "</div>"
      ],
      "text/plain": [
       "                       Volume    Return  year  month  day  dayofweek  hour  \\\n",
       "date                                                                         \n",
       "2013-04-01 00:00:00  0.001487  0.530868   0.0      4    1          0     0   \n",
       "2013-04-01 01:00:00  0.001901  0.542849   0.0      4    1          0     1   \n",
       "2013-04-01 02:00:00  0.004460  0.534803   0.0      4    1          0     2   \n",
       "2013-04-01 03:00:00  0.000030  0.530868   0.0      4    1          0     3   \n",
       "2013-04-01 04:00:00  0.000595  0.522453   0.0      4    1          0     4   \n",
       "...                       ...       ...   ...    ...  ...        ...   ...   \n",
       "2020-11-08 10:00:00  0.001800  0.542132   1.0     11    8          6    10   \n",
       "2020-11-08 11:00:00  0.003983  0.540445   1.0     11    8          6    11   \n",
       "2020-11-08 12:00:00  0.002339  0.541433   1.0     11    8          6    12   \n",
       "2020-11-08 13:00:00  0.003509  0.523948   1.0     11    8          6    13   \n",
       "2020-11-08 14:00:00  0.000982  0.543467   1.0     11    8          6    14   \n",
       "\n",
       "                     minute  \n",
       "date                         \n",
       "2013-04-01 00:00:00       0  \n",
       "2013-04-01 01:00:00       0  \n",
       "2013-04-01 02:00:00       0  \n",
       "2013-04-01 03:00:00       0  \n",
       "2013-04-01 04:00:00       0  \n",
       "...                     ...  \n",
       "2020-11-08 10:00:00       0  \n",
       "2020-11-08 11:00:00       0  \n",
       "2020-11-08 12:00:00       0  \n",
       "2020-11-08 13:00:00       0  \n",
       "2020-11-08 14:00:00       0  \n",
       "\n",
       "[66375 rows x 8 columns]"
      ]
     },
     "execution_count": 12,
     "metadata": {},
     "output_type": "execute_result"
    }
   ],
   "source": [
    "X_train_norm"
   ]
  },
  {
   "cell_type": "markdown",
   "metadata": {},
   "source": [
    "## Process cyclical columns such as month and hour"
   ]
  },
  {
   "cell_type": "code",
   "execution_count": 13,
   "metadata": {},
   "outputs": [],
   "source": [
    "def encode_cyclicals(df_x):\n",
    "    #\"month\",\"day\",\"hour\", \"dayofweek\"\n",
    "\n",
    "    df_x['month_sin'] = np.sin(2*np.pi*df_x.month/12)\n",
    "    df_x['month_cos'] = np.cos(2*np.pi*df_x.month/12)\n",
    "    df_x.drop('month', axis=1, inplace=True)\n",
    "    \n",
    "    df_x['day_sin'] = np.sin(2*np.pi*df_x.day/31)\n",
    "    df_x['day_cos'] = np.cos(2*np.pi*df_x.day/31)\n",
    "    df_x.drop('day', axis=1, inplace=True)\n",
    "\n",
    "    df_x['dayofweek_sin'] = np.sin(2*np.pi*df_x.dayofweek/7)\n",
    "    df_x['dayofweek_cos'] = np.cos(2*np.pi*df_x.dayofweek/7)\n",
    "    df_x.drop('dayofweek', axis=1, inplace=True)\n",
    "    \n",
    "    df_x['hour_sin'] = np.sin(2*np.pi*df_x.hour/24)\n",
    "    df_x['hour_cos'] = np.cos(2*np.pi*df_x.hour/24)\n",
    "    df_x.drop('hour', axis=1, inplace=True)\n",
    "    \n",
    "    # df_x['minute_sin'] = np.sin(2*np.pi*df_x.minute/60)\n",
    "    # df_x['minute_cos'] = np.cos(2*np.pi*df_x.minute/60)\n",
    "    df_x.drop('minute', axis=1, inplace=True)\n",
    "    \n",
    "    return df_x"
   ]
  },
  {
   "cell_type": "code",
   "execution_count": 14,
   "metadata": {},
   "outputs": [],
   "source": [
    "X_train_norm = encode_cyclicals(X_train_norm)\n",
    "X_valid_norm = encode_cyclicals(X_valid_norm)\n",
    "X_test_norm = encode_cyclicals(X_test_norm)"
   ]
  },
  {
   "cell_type": "code",
   "execution_count": 15,
   "metadata": {},
   "outputs": [
    {
     "data": {
      "text/html": [
       "<div>\n",
       "<style scoped>\n",
       "    .dataframe tbody tr th:only-of-type {\n",
       "        vertical-align: middle;\n",
       "    }\n",
       "\n",
       "    .dataframe tbody tr th {\n",
       "        vertical-align: top;\n",
       "    }\n",
       "\n",
       "    .dataframe thead th {\n",
       "        text-align: right;\n",
       "    }\n",
       "</style>\n",
       "<table border=\"1\" class=\"dataframe\">\n",
       "  <thead>\n",
       "    <tr style=\"text-align: right;\">\n",
       "      <th></th>\n",
       "      <th>Volume</th>\n",
       "      <th>Return</th>\n",
       "      <th>year</th>\n",
       "      <th>month_sin</th>\n",
       "      <th>month_cos</th>\n",
       "      <th>day_sin</th>\n",
       "      <th>day_cos</th>\n",
       "      <th>dayofweek_sin</th>\n",
       "      <th>dayofweek_cos</th>\n",
       "      <th>hour_sin</th>\n",
       "      <th>hour_cos</th>\n",
       "    </tr>\n",
       "    <tr>\n",
       "      <th>date</th>\n",
       "      <th></th>\n",
       "      <th></th>\n",
       "      <th></th>\n",
       "      <th></th>\n",
       "      <th></th>\n",
       "      <th></th>\n",
       "      <th></th>\n",
       "      <th></th>\n",
       "      <th></th>\n",
       "      <th></th>\n",
       "      <th></th>\n",
       "    </tr>\n",
       "  </thead>\n",
       "  <tbody>\n",
       "    <tr>\n",
       "      <th>2013-04-01 00:00:00</th>\n",
       "      <td>0.001487</td>\n",
       "      <td>0.530868</td>\n",
       "      <td>0.0</td>\n",
       "      <td>0.866025</td>\n",
       "      <td>-0.500000</td>\n",
       "      <td>0.201299</td>\n",
       "      <td>0.979530</td>\n",
       "      <td>0.000000</td>\n",
       "      <td>1.00000</td>\n",
       "      <td>0.000000e+00</td>\n",
       "      <td>1.000000</td>\n",
       "    </tr>\n",
       "    <tr>\n",
       "      <th>2013-04-01 01:00:00</th>\n",
       "      <td>0.001901</td>\n",
       "      <td>0.542849</td>\n",
       "      <td>0.0</td>\n",
       "      <td>0.866025</td>\n",
       "      <td>-0.500000</td>\n",
       "      <td>0.201299</td>\n",
       "      <td>0.979530</td>\n",
       "      <td>0.000000</td>\n",
       "      <td>1.00000</td>\n",
       "      <td>2.588190e-01</td>\n",
       "      <td>0.965926</td>\n",
       "    </tr>\n",
       "    <tr>\n",
       "      <th>2013-04-01 02:00:00</th>\n",
       "      <td>0.004460</td>\n",
       "      <td>0.534803</td>\n",
       "      <td>0.0</td>\n",
       "      <td>0.866025</td>\n",
       "      <td>-0.500000</td>\n",
       "      <td>0.201299</td>\n",
       "      <td>0.979530</td>\n",
       "      <td>0.000000</td>\n",
       "      <td>1.00000</td>\n",
       "      <td>5.000000e-01</td>\n",
       "      <td>0.866025</td>\n",
       "    </tr>\n",
       "    <tr>\n",
       "      <th>2013-04-01 03:00:00</th>\n",
       "      <td>0.000030</td>\n",
       "      <td>0.530868</td>\n",
       "      <td>0.0</td>\n",
       "      <td>0.866025</td>\n",
       "      <td>-0.500000</td>\n",
       "      <td>0.201299</td>\n",
       "      <td>0.979530</td>\n",
       "      <td>0.000000</td>\n",
       "      <td>1.00000</td>\n",
       "      <td>7.071068e-01</td>\n",
       "      <td>0.707107</td>\n",
       "    </tr>\n",
       "    <tr>\n",
       "      <th>2013-04-01 04:00:00</th>\n",
       "      <td>0.000595</td>\n",
       "      <td>0.522453</td>\n",
       "      <td>0.0</td>\n",
       "      <td>0.866025</td>\n",
       "      <td>-0.500000</td>\n",
       "      <td>0.201299</td>\n",
       "      <td>0.979530</td>\n",
       "      <td>0.000000</td>\n",
       "      <td>1.00000</td>\n",
       "      <td>8.660254e-01</td>\n",
       "      <td>0.500000</td>\n",
       "    </tr>\n",
       "    <tr>\n",
       "      <th>...</th>\n",
       "      <td>...</td>\n",
       "      <td>...</td>\n",
       "      <td>...</td>\n",
       "      <td>...</td>\n",
       "      <td>...</td>\n",
       "      <td>...</td>\n",
       "      <td>...</td>\n",
       "      <td>...</td>\n",
       "      <td>...</td>\n",
       "      <td>...</td>\n",
       "      <td>...</td>\n",
       "    </tr>\n",
       "    <tr>\n",
       "      <th>2020-11-08 10:00:00</th>\n",
       "      <td>0.001800</td>\n",
       "      <td>0.542132</td>\n",
       "      <td>1.0</td>\n",
       "      <td>-0.500000</td>\n",
       "      <td>0.866025</td>\n",
       "      <td>0.998717</td>\n",
       "      <td>-0.050649</td>\n",
       "      <td>-0.781831</td>\n",
       "      <td>0.62349</td>\n",
       "      <td>5.000000e-01</td>\n",
       "      <td>-0.866025</td>\n",
       "    </tr>\n",
       "    <tr>\n",
       "      <th>2020-11-08 11:00:00</th>\n",
       "      <td>0.003983</td>\n",
       "      <td>0.540445</td>\n",
       "      <td>1.0</td>\n",
       "      <td>-0.500000</td>\n",
       "      <td>0.866025</td>\n",
       "      <td>0.998717</td>\n",
       "      <td>-0.050649</td>\n",
       "      <td>-0.781831</td>\n",
       "      <td>0.62349</td>\n",
       "      <td>2.588190e-01</td>\n",
       "      <td>-0.965926</td>\n",
       "    </tr>\n",
       "    <tr>\n",
       "      <th>2020-11-08 12:00:00</th>\n",
       "      <td>0.002339</td>\n",
       "      <td>0.541433</td>\n",
       "      <td>1.0</td>\n",
       "      <td>-0.500000</td>\n",
       "      <td>0.866025</td>\n",
       "      <td>0.998717</td>\n",
       "      <td>-0.050649</td>\n",
       "      <td>-0.781831</td>\n",
       "      <td>0.62349</td>\n",
       "      <td>1.224647e-16</td>\n",
       "      <td>-1.000000</td>\n",
       "    </tr>\n",
       "    <tr>\n",
       "      <th>2020-11-08 13:00:00</th>\n",
       "      <td>0.003509</td>\n",
       "      <td>0.523948</td>\n",
       "      <td>1.0</td>\n",
       "      <td>-0.500000</td>\n",
       "      <td>0.866025</td>\n",
       "      <td>0.998717</td>\n",
       "      <td>-0.050649</td>\n",
       "      <td>-0.781831</td>\n",
       "      <td>0.62349</td>\n",
       "      <td>-2.588190e-01</td>\n",
       "      <td>-0.965926</td>\n",
       "    </tr>\n",
       "    <tr>\n",
       "      <th>2020-11-08 14:00:00</th>\n",
       "      <td>0.000982</td>\n",
       "      <td>0.543467</td>\n",
       "      <td>1.0</td>\n",
       "      <td>-0.500000</td>\n",
       "      <td>0.866025</td>\n",
       "      <td>0.998717</td>\n",
       "      <td>-0.050649</td>\n",
       "      <td>-0.781831</td>\n",
       "      <td>0.62349</td>\n",
       "      <td>-5.000000e-01</td>\n",
       "      <td>-0.866025</td>\n",
       "    </tr>\n",
       "  </tbody>\n",
       "</table>\n",
       "<p>66375 rows × 11 columns</p>\n",
       "</div>"
      ],
      "text/plain": [
       "                       Volume    Return  year  month_sin  month_cos   day_sin  \\\n",
       "date                                                                            \n",
       "2013-04-01 00:00:00  0.001487  0.530868   0.0   0.866025  -0.500000  0.201299   \n",
       "2013-04-01 01:00:00  0.001901  0.542849   0.0   0.866025  -0.500000  0.201299   \n",
       "2013-04-01 02:00:00  0.004460  0.534803   0.0   0.866025  -0.500000  0.201299   \n",
       "2013-04-01 03:00:00  0.000030  0.530868   0.0   0.866025  -0.500000  0.201299   \n",
       "2013-04-01 04:00:00  0.000595  0.522453   0.0   0.866025  -0.500000  0.201299   \n",
       "...                       ...       ...   ...        ...        ...       ...   \n",
       "2020-11-08 10:00:00  0.001800  0.542132   1.0  -0.500000   0.866025  0.998717   \n",
       "2020-11-08 11:00:00  0.003983  0.540445   1.0  -0.500000   0.866025  0.998717   \n",
       "2020-11-08 12:00:00  0.002339  0.541433   1.0  -0.500000   0.866025  0.998717   \n",
       "2020-11-08 13:00:00  0.003509  0.523948   1.0  -0.500000   0.866025  0.998717   \n",
       "2020-11-08 14:00:00  0.000982  0.543467   1.0  -0.500000   0.866025  0.998717   \n",
       "\n",
       "                      day_cos  dayofweek_sin  dayofweek_cos      hour_sin  \\\n",
       "date                                                                        \n",
       "2013-04-01 00:00:00  0.979530       0.000000        1.00000  0.000000e+00   \n",
       "2013-04-01 01:00:00  0.979530       0.000000        1.00000  2.588190e-01   \n",
       "2013-04-01 02:00:00  0.979530       0.000000        1.00000  5.000000e-01   \n",
       "2013-04-01 03:00:00  0.979530       0.000000        1.00000  7.071068e-01   \n",
       "2013-04-01 04:00:00  0.979530       0.000000        1.00000  8.660254e-01   \n",
       "...                       ...            ...            ...           ...   \n",
       "2020-11-08 10:00:00 -0.050649      -0.781831        0.62349  5.000000e-01   \n",
       "2020-11-08 11:00:00 -0.050649      -0.781831        0.62349  2.588190e-01   \n",
       "2020-11-08 12:00:00 -0.050649      -0.781831        0.62349  1.224647e-16   \n",
       "2020-11-08 13:00:00 -0.050649      -0.781831        0.62349 -2.588190e-01   \n",
       "2020-11-08 14:00:00 -0.050649      -0.781831        0.62349 -5.000000e-01   \n",
       "\n",
       "                     hour_cos  \n",
       "date                           \n",
       "2013-04-01 00:00:00  1.000000  \n",
       "2013-04-01 01:00:00  0.965926  \n",
       "2013-04-01 02:00:00  0.866025  \n",
       "2013-04-01 03:00:00  0.707107  \n",
       "2013-04-01 04:00:00  0.500000  \n",
       "...                       ...  \n",
       "2020-11-08 10:00:00 -0.866025  \n",
       "2020-11-08 11:00:00 -0.965926  \n",
       "2020-11-08 12:00:00 -1.000000  \n",
       "2020-11-08 13:00:00 -0.965926  \n",
       "2020-11-08 14:00:00 -0.866025  \n",
       "\n",
       "[66375 rows x 11 columns]"
      ]
     },
     "execution_count": 15,
     "metadata": {},
     "output_type": "execute_result"
    }
   ],
   "source": [
    "X_train_norm"
   ]
  },
  {
   "cell_type": "code",
   "execution_count": 16,
   "metadata": {},
   "outputs": [],
   "source": [
    "TIME_WINDOW=100\n",
    "FORECAST_DISTANCE=24"
   ]
  },
  {
   "cell_type": "code",
   "execution_count": 17,
   "metadata": {},
   "outputs": [
    {
     "data": {
      "text/plain": [
       "array([[0.53086766],\n",
       "       [0.54284936],\n",
       "       [0.53480329],\n",
       "       ...,\n",
       "       [0.54143328],\n",
       "       [0.52394756],\n",
       "       [0.54346716]])"
      ]
     },
     "execution_count": 17,
     "metadata": {},
     "output_type": "execute_result"
    }
   ],
   "source": [
    "y_train_norm"
   ]
  },
  {
   "cell_type": "code",
   "execution_count": 18,
   "metadata": {},
   "outputs": [],
   "source": [
    "from seglearn.transform import FeatureRep, SegmentXYForecast, last\n",
    "\n",
    "segmenter = SegmentXYForecast(width=TIME_WINDOW, step=1, y_func=last, forecast=FORECAST_DISTANCE)\n",
    "\n",
    "X_train_rolled, y_train_rolled,_=segmenter.fit_transform([X_train_norm.values], [y_train_norm.flatten()])"
   ]
  },
  {
   "cell_type": "code",
   "execution_count": 19,
   "metadata": {},
   "outputs": [
    {
     "data": {
      "text/plain": [
       "array([[[ 1.48682425e-03,  5.30867662e-01,  0.00000000e+00, ...,\n",
       "          1.00000000e+00,  0.00000000e+00,  1.00000000e+00],\n",
       "        [ 1.90058620e-03,  5.42849360e-01,  0.00000000e+00, ...,\n",
       "          1.00000000e+00,  2.58819045e-01,  9.65925826e-01],\n",
       "        [ 4.46047275e-03,  5.34803286e-01,  0.00000000e+00, ...,\n",
       "          1.00000000e+00,  5.00000000e-01,  8.66025404e-01],\n",
       "        ...,\n",
       "        [ 2.33081852e-02,  5.45137012e-01,  0.00000000e+00, ...,\n",
       "         -9.00968868e-01,  5.00000000e-01,  8.66025404e-01],\n",
       "        [ 2.08155395e-04,  5.23159925e-01,  0.00000000e+00, ...,\n",
       "         -9.00968868e-01,  7.07106781e-01,  7.07106781e-01],\n",
       "        [ 8.35595228e-03,  5.73479242e-01,  0.00000000e+00, ...,\n",
       "         -9.00968868e-01,  8.66025404e-01,  5.00000000e-01]]])"
      ]
     },
     "execution_count": 19,
     "metadata": {},
     "output_type": "execute_result"
    }
   ],
   "source": [
    "X_train_rolled[:1]"
   ]
  },
  {
   "cell_type": "code",
   "execution_count": 20,
   "metadata": {},
   "outputs": [
    {
     "data": {
      "text/plain": [
       "(66252, 100, 11)"
      ]
     },
     "execution_count": 20,
     "metadata": {},
     "output_type": "execute_result"
    }
   ],
   "source": [
    "X_train_rolled.shape"
   ]
  },
  {
   "cell_type": "code",
   "execution_count": 21,
   "metadata": {},
   "outputs": [
    {
     "data": {
      "text/plain": [
       "(66252, 1100)"
      ]
     },
     "execution_count": 21,
     "metadata": {},
     "output_type": "execute_result"
    }
   ],
   "source": [
    "shape = X_train_rolled.shape\n",
    "X_train_flattened = X_train_rolled.reshape(shape[0],shape[1]*shape[2])\n",
    "X_train_flattened.shape"
   ]
  },
  {
   "cell_type": "code",
   "execution_count": 22,
   "metadata": {},
   "outputs": [],
   "source": [
    "X_valid_rolled, y_valid_rolled,_=segmenter.fit_transform([X_valid_norm.values],[y_valid_norm.flatten()])\n",
    "\n",
    "shape = X_valid_rolled.shape\n",
    "X_valid_flattened = X_valid_rolled.reshape(shape[0],shape[1]*shape[2])"
   ]
  },
  {
   "cell_type": "code",
   "execution_count": 23,
   "metadata": {},
   "outputs": [],
   "source": [
    "from sklearn.metrics import mean_squared_error\n",
    "from math import sqrt\n",
    "\n",
    "def evaluate_model(model, X_valid, y_valid_true):\n",
    "    predictions = model.predict(X_valid)\n",
    "    rms = sqrt(mean_squared_error(y_valid_true, predictions))\n",
    "    print(\"Root mean squared error on valid:\", rms)\n",
    "    normalized_rms = normalizers[\"Return\"].inverse_transform(np.array([rms]).reshape(1, -1))[0][0]\n",
    "    print(\"Root mean squared error on valid inverse transformed from normalization:\", normalized_rms)\n",
    "    return normalized_rms"
   ]
  },
  {
   "cell_type": "code",
   "execution_count": 24,
   "metadata": {},
   "outputs": [
    {
     "data": {
      "text/html": [
       "<style>#sk-container-id-1 {color: black;background-color: white;}#sk-container-id-1 pre{padding: 0;}#sk-container-id-1 div.sk-toggleable {background-color: white;}#sk-container-id-1 label.sk-toggleable__label {cursor: pointer;display: block;width: 100%;margin-bottom: 0;padding: 0.3em;box-sizing: border-box;text-align: center;}#sk-container-id-1 label.sk-toggleable__label-arrow:before {content: \"▸\";float: left;margin-right: 0.25em;color: #696969;}#sk-container-id-1 label.sk-toggleable__label-arrow:hover:before {color: black;}#sk-container-id-1 div.sk-estimator:hover label.sk-toggleable__label-arrow:before {color: black;}#sk-container-id-1 div.sk-toggleable__content {max-height: 0;max-width: 0;overflow: hidden;text-align: left;background-color: #f0f8ff;}#sk-container-id-1 div.sk-toggleable__content pre {margin: 0.2em;color: black;border-radius: 0.25em;background-color: #f0f8ff;}#sk-container-id-1 input.sk-toggleable__control:checked~div.sk-toggleable__content {max-height: 200px;max-width: 100%;overflow: auto;}#sk-container-id-1 input.sk-toggleable__control:checked~label.sk-toggleable__label-arrow:before {content: \"▾\";}#sk-container-id-1 div.sk-estimator input.sk-toggleable__control:checked~label.sk-toggleable__label {background-color: #d4ebff;}#sk-container-id-1 div.sk-label input.sk-toggleable__control:checked~label.sk-toggleable__label {background-color: #d4ebff;}#sk-container-id-1 input.sk-hidden--visually {border: 0;clip: rect(1px 1px 1px 1px);clip: rect(1px, 1px, 1px, 1px);height: 1px;margin: -1px;overflow: hidden;padding: 0;position: absolute;width: 1px;}#sk-container-id-1 div.sk-estimator {font-family: monospace;background-color: #f0f8ff;border: 1px dotted black;border-radius: 0.25em;box-sizing: border-box;margin-bottom: 0.5em;}#sk-container-id-1 div.sk-estimator:hover {background-color: #d4ebff;}#sk-container-id-1 div.sk-parallel-item::after {content: \"\";width: 100%;border-bottom: 1px solid gray;flex-grow: 1;}#sk-container-id-1 div.sk-label:hover label.sk-toggleable__label {background-color: #d4ebff;}#sk-container-id-1 div.sk-serial::before {content: \"\";position: absolute;border-left: 1px solid gray;box-sizing: border-box;top: 0;bottom: 0;left: 50%;z-index: 0;}#sk-container-id-1 div.sk-serial {display: flex;flex-direction: column;align-items: center;background-color: white;padding-right: 0.2em;padding-left: 0.2em;position: relative;}#sk-container-id-1 div.sk-item {position: relative;z-index: 1;}#sk-container-id-1 div.sk-parallel {display: flex;align-items: stretch;justify-content: center;background-color: white;position: relative;}#sk-container-id-1 div.sk-item::before, #sk-container-id-1 div.sk-parallel-item::before {content: \"\";position: absolute;border-left: 1px solid gray;box-sizing: border-box;top: 0;bottom: 0;left: 50%;z-index: -1;}#sk-container-id-1 div.sk-parallel-item {display: flex;flex-direction: column;z-index: 1;position: relative;background-color: white;}#sk-container-id-1 div.sk-parallel-item:first-child::after {align-self: flex-end;width: 50%;}#sk-container-id-1 div.sk-parallel-item:last-child::after {align-self: flex-start;width: 50%;}#sk-container-id-1 div.sk-parallel-item:only-child::after {width: 0;}#sk-container-id-1 div.sk-dashed-wrapped {border: 1px dashed gray;margin: 0 0.4em 0.5em 0.4em;box-sizing: border-box;padding-bottom: 0.4em;background-color: white;}#sk-container-id-1 div.sk-label label {font-family: monospace;font-weight: bold;display: inline-block;line-height: 1.2em;}#sk-container-id-1 div.sk-label-container {text-align: center;}#sk-container-id-1 div.sk-container {/* jupyter's `normalize.less` sets `[hidden] { display: none; }` but bootstrap.min.css set `[hidden] { display: none !important; }` so we also need the `!important` here to be able to override the default hidden behavior on the sphinx rendered scikit-learn.org. See: https://github.com/scikit-learn/scikit-learn/issues/21755 */display: inline-block !important;position: relative;}#sk-container-id-1 div.sk-text-repr-fallback {display: none;}</style><div id=\"sk-container-id-1\" class=\"sk-top-container\"><div class=\"sk-text-repr-fallback\"><pre>DummyRegressor(strategy=&#x27;median&#x27;)</pre><b>In a Jupyter environment, please rerun this cell to show the HTML representation or trust the notebook. <br />On GitHub, the HTML representation is unable to render, please try loading this page with nbviewer.org.</b></div><div class=\"sk-container\" hidden><div class=\"sk-item\"><div class=\"sk-estimator sk-toggleable\"><input class=\"sk-toggleable__control sk-hidden--visually\" id=\"sk-estimator-id-1\" type=\"checkbox\" checked><label for=\"sk-estimator-id-1\" class=\"sk-toggleable__label sk-toggleable__label-arrow\">DummyRegressor</label><div class=\"sk-toggleable__content\"><pre>DummyRegressor(strategy=&#x27;median&#x27;)</pre></div></div></div></div></div>"
      ],
      "text/plain": [
       "DummyRegressor(strategy='median')"
      ]
     },
     "execution_count": 24,
     "metadata": {},
     "output_type": "execute_result"
    }
   ],
   "source": [
    "from sklearn.dummy import DummyRegressor\n",
    "\n",
    "dummy_model = DummyRegressor(strategy = \"median\")\n",
    "\n",
    "dummy_model.fit(X_train_flattened, y_train_rolled)"
   ]
  },
  {
   "cell_type": "code",
   "execution_count": 25,
   "metadata": {},
   "outputs": [
    {
     "name": "stdout",
     "output_type": "stream",
     "text": [
      "Root mean squared error on valid: 0.01725342593800892\n",
      "Root mean squared error on valid inverse transformed from normalization: -0.29220407602733195\n"
     ]
    }
   ],
   "source": [
    "result = evaluate_model(dummy_model, X_valid_flattened, y_valid_rolled)"
   ]
  },
  {
   "cell_type": "code",
   "execution_count": 26,
   "metadata": {},
   "outputs": [],
   "source": [
    "from sklearn.ensemble import RandomForestRegressor\n",
    "\n",
    "N_ESTIMATORS = 18\n",
    "RANDOM_STATE = 452543634"
   ]
  },
  {
   "cell_type": "code",
   "execution_count": 27,
   "metadata": {},
   "outputs": [
    {
     "data": {
      "text/html": [
       "<style>#sk-container-id-2 {color: black;background-color: white;}#sk-container-id-2 pre{padding: 0;}#sk-container-id-2 div.sk-toggleable {background-color: white;}#sk-container-id-2 label.sk-toggleable__label {cursor: pointer;display: block;width: 100%;margin-bottom: 0;padding: 0.3em;box-sizing: border-box;text-align: center;}#sk-container-id-2 label.sk-toggleable__label-arrow:before {content: \"▸\";float: left;margin-right: 0.25em;color: #696969;}#sk-container-id-2 label.sk-toggleable__label-arrow:hover:before {color: black;}#sk-container-id-2 div.sk-estimator:hover label.sk-toggleable__label-arrow:before {color: black;}#sk-container-id-2 div.sk-toggleable__content {max-height: 0;max-width: 0;overflow: hidden;text-align: left;background-color: #f0f8ff;}#sk-container-id-2 div.sk-toggleable__content pre {margin: 0.2em;color: black;border-radius: 0.25em;background-color: #f0f8ff;}#sk-container-id-2 input.sk-toggleable__control:checked~div.sk-toggleable__content {max-height: 200px;max-width: 100%;overflow: auto;}#sk-container-id-2 input.sk-toggleable__control:checked~label.sk-toggleable__label-arrow:before {content: \"▾\";}#sk-container-id-2 div.sk-estimator input.sk-toggleable__control:checked~label.sk-toggleable__label {background-color: #d4ebff;}#sk-container-id-2 div.sk-label input.sk-toggleable__control:checked~label.sk-toggleable__label {background-color: #d4ebff;}#sk-container-id-2 input.sk-hidden--visually {border: 0;clip: rect(1px 1px 1px 1px);clip: rect(1px, 1px, 1px, 1px);height: 1px;margin: -1px;overflow: hidden;padding: 0;position: absolute;width: 1px;}#sk-container-id-2 div.sk-estimator {font-family: monospace;background-color: #f0f8ff;border: 1px dotted black;border-radius: 0.25em;box-sizing: border-box;margin-bottom: 0.5em;}#sk-container-id-2 div.sk-estimator:hover {background-color: #d4ebff;}#sk-container-id-2 div.sk-parallel-item::after {content: \"\";width: 100%;border-bottom: 1px solid gray;flex-grow: 1;}#sk-container-id-2 div.sk-label:hover label.sk-toggleable__label {background-color: #d4ebff;}#sk-container-id-2 div.sk-serial::before {content: \"\";position: absolute;border-left: 1px solid gray;box-sizing: border-box;top: 0;bottom: 0;left: 50%;z-index: 0;}#sk-container-id-2 div.sk-serial {display: flex;flex-direction: column;align-items: center;background-color: white;padding-right: 0.2em;padding-left: 0.2em;position: relative;}#sk-container-id-2 div.sk-item {position: relative;z-index: 1;}#sk-container-id-2 div.sk-parallel {display: flex;align-items: stretch;justify-content: center;background-color: white;position: relative;}#sk-container-id-2 div.sk-item::before, #sk-container-id-2 div.sk-parallel-item::before {content: \"\";position: absolute;border-left: 1px solid gray;box-sizing: border-box;top: 0;bottom: 0;left: 50%;z-index: -1;}#sk-container-id-2 div.sk-parallel-item {display: flex;flex-direction: column;z-index: 1;position: relative;background-color: white;}#sk-container-id-2 div.sk-parallel-item:first-child::after {align-self: flex-end;width: 50%;}#sk-container-id-2 div.sk-parallel-item:last-child::after {align-self: flex-start;width: 50%;}#sk-container-id-2 div.sk-parallel-item:only-child::after {width: 0;}#sk-container-id-2 div.sk-dashed-wrapped {border: 1px dashed gray;margin: 0 0.4em 0.5em 0.4em;box-sizing: border-box;padding-bottom: 0.4em;background-color: white;}#sk-container-id-2 div.sk-label label {font-family: monospace;font-weight: bold;display: inline-block;line-height: 1.2em;}#sk-container-id-2 div.sk-label-container {text-align: center;}#sk-container-id-2 div.sk-container {/* jupyter's `normalize.less` sets `[hidden] { display: none; }` but bootstrap.min.css set `[hidden] { display: none !important; }` so we also need the `!important` here to be able to override the default hidden behavior on the sphinx rendered scikit-learn.org. See: https://github.com/scikit-learn/scikit-learn/issues/21755 */display: inline-block !important;position: relative;}#sk-container-id-2 div.sk-text-repr-fallback {display: none;}</style><div id=\"sk-container-id-2\" class=\"sk-top-container\"><div class=\"sk-text-repr-fallback\"><pre>RandomForestRegressor(max_depth=30, max_features=&#x27;auto&#x27;, n_estimators=18,\n",
       "                      n_jobs=-1, random_state=452543634)</pre><b>In a Jupyter environment, please rerun this cell to show the HTML representation or trust the notebook. <br />On GitHub, the HTML representation is unable to render, please try loading this page with nbviewer.org.</b></div><div class=\"sk-container\" hidden><div class=\"sk-item\"><div class=\"sk-estimator sk-toggleable\"><input class=\"sk-toggleable__control sk-hidden--visually\" id=\"sk-estimator-id-2\" type=\"checkbox\" checked><label for=\"sk-estimator-id-2\" class=\"sk-toggleable__label sk-toggleable__label-arrow\">RandomForestRegressor</label><div class=\"sk-toggleable__content\"><pre>RandomForestRegressor(max_depth=30, max_features=&#x27;auto&#x27;, n_estimators=18,\n",
       "                      n_jobs=-1, random_state=452543634)</pre></div></div></div></div></div>"
      ],
      "text/plain": [
       "RandomForestRegressor(max_depth=30, max_features='auto', n_estimators=18,\n",
       "                      n_jobs=-1, random_state=452543634)"
      ]
     },
     "execution_count": 27,
     "metadata": {},
     "output_type": "execute_result"
    }
   ],
   "source": [
    "warnings.filterwarnings('ignore')\n",
    "\n",
    "RF_base_model = RandomForestRegressor(n_estimators=N_ESTIMATORS, \n",
    "                                      random_state=RANDOM_STATE, \n",
    "                                      n_jobs=-1, \n",
    "                                      max_depth=30, \n",
    "                                      max_features='auto', \n",
    "                                      max_leaf_nodes=None, \n",
    "                                      bootstrap=True, oob_score=False)\n",
    "\n",
    "RF_base_model.fit(X_train_flattened, y_train_rolled)"
   ]
  },
  {
   "cell_type": "code",
   "execution_count": 28,
   "metadata": {},
   "outputs": [
    {
     "name": "stdout",
     "output_type": "stream",
     "text": [
      "Root mean squared error on valid: 0.017276568194530082\n",
      "Root mean squared error on valid inverse transformed from normalization: -0.2921909099949226\n"
     ]
    }
   ],
   "source": [
    "result = evaluate_model(RF_base_model, X_valid_flattened, y_valid_rolled)"
   ]
  },
  {
   "cell_type": "code",
   "execution_count": 29,
   "metadata": {},
   "outputs": [
    {
     "data": {
      "text/html": [
       "<style>#sk-container-id-3 {color: black;background-color: white;}#sk-container-id-3 pre{padding: 0;}#sk-container-id-3 div.sk-toggleable {background-color: white;}#sk-container-id-3 label.sk-toggleable__label {cursor: pointer;display: block;width: 100%;margin-bottom: 0;padding: 0.3em;box-sizing: border-box;text-align: center;}#sk-container-id-3 label.sk-toggleable__label-arrow:before {content: \"▸\";float: left;margin-right: 0.25em;color: #696969;}#sk-container-id-3 label.sk-toggleable__label-arrow:hover:before {color: black;}#sk-container-id-3 div.sk-estimator:hover label.sk-toggleable__label-arrow:before {color: black;}#sk-container-id-3 div.sk-toggleable__content {max-height: 0;max-width: 0;overflow: hidden;text-align: left;background-color: #f0f8ff;}#sk-container-id-3 div.sk-toggleable__content pre {margin: 0.2em;color: black;border-radius: 0.25em;background-color: #f0f8ff;}#sk-container-id-3 input.sk-toggleable__control:checked~div.sk-toggleable__content {max-height: 200px;max-width: 100%;overflow: auto;}#sk-container-id-3 input.sk-toggleable__control:checked~label.sk-toggleable__label-arrow:before {content: \"▾\";}#sk-container-id-3 div.sk-estimator input.sk-toggleable__control:checked~label.sk-toggleable__label {background-color: #d4ebff;}#sk-container-id-3 div.sk-label input.sk-toggleable__control:checked~label.sk-toggleable__label {background-color: #d4ebff;}#sk-container-id-3 input.sk-hidden--visually {border: 0;clip: rect(1px 1px 1px 1px);clip: rect(1px, 1px, 1px, 1px);height: 1px;margin: -1px;overflow: hidden;padding: 0;position: absolute;width: 1px;}#sk-container-id-3 div.sk-estimator {font-family: monospace;background-color: #f0f8ff;border: 1px dotted black;border-radius: 0.25em;box-sizing: border-box;margin-bottom: 0.5em;}#sk-container-id-3 div.sk-estimator:hover {background-color: #d4ebff;}#sk-container-id-3 div.sk-parallel-item::after {content: \"\";width: 100%;border-bottom: 1px solid gray;flex-grow: 1;}#sk-container-id-3 div.sk-label:hover label.sk-toggleable__label {background-color: #d4ebff;}#sk-container-id-3 div.sk-serial::before {content: \"\";position: absolute;border-left: 1px solid gray;box-sizing: border-box;top: 0;bottom: 0;left: 50%;z-index: 0;}#sk-container-id-3 div.sk-serial {display: flex;flex-direction: column;align-items: center;background-color: white;padding-right: 0.2em;padding-left: 0.2em;position: relative;}#sk-container-id-3 div.sk-item {position: relative;z-index: 1;}#sk-container-id-3 div.sk-parallel {display: flex;align-items: stretch;justify-content: center;background-color: white;position: relative;}#sk-container-id-3 div.sk-item::before, #sk-container-id-3 div.sk-parallel-item::before {content: \"\";position: absolute;border-left: 1px solid gray;box-sizing: border-box;top: 0;bottom: 0;left: 50%;z-index: -1;}#sk-container-id-3 div.sk-parallel-item {display: flex;flex-direction: column;z-index: 1;position: relative;background-color: white;}#sk-container-id-3 div.sk-parallel-item:first-child::after {align-self: flex-end;width: 50%;}#sk-container-id-3 div.sk-parallel-item:last-child::after {align-self: flex-start;width: 50%;}#sk-container-id-3 div.sk-parallel-item:only-child::after {width: 0;}#sk-container-id-3 div.sk-dashed-wrapped {border: 1px dashed gray;margin: 0 0.4em 0.5em 0.4em;box-sizing: border-box;padding-bottom: 0.4em;background-color: white;}#sk-container-id-3 div.sk-label label {font-family: monospace;font-weight: bold;display: inline-block;line-height: 1.2em;}#sk-container-id-3 div.sk-label-container {text-align: center;}#sk-container-id-3 div.sk-container {/* jupyter's `normalize.less` sets `[hidden] { display: none; }` but bootstrap.min.css set `[hidden] { display: none !important; }` so we also need the `!important` here to be able to override the default hidden behavior on the sphinx rendered scikit-learn.org. See: https://github.com/scikit-learn/scikit-learn/issues/21755 */display: inline-block !important;position: relative;}#sk-container-id-3 div.sk-text-repr-fallback {display: none;}</style><div id=\"sk-container-id-3\" class=\"sk-top-container\"><div class=\"sk-text-repr-fallback\"><pre>RandomForestRegressor(max_depth=15, max_features=&#x27;auto&#x27;, n_estimators=18,\n",
       "                      n_jobs=-1, random_state=452543634)</pre><b>In a Jupyter environment, please rerun this cell to show the HTML representation or trust the notebook. <br />On GitHub, the HTML representation is unable to render, please try loading this page with nbviewer.org.</b></div><div class=\"sk-container\" hidden><div class=\"sk-item\"><div class=\"sk-estimator sk-toggleable\"><input class=\"sk-toggleable__control sk-hidden--visually\" id=\"sk-estimator-id-3\" type=\"checkbox\" checked><label for=\"sk-estimator-id-3\" class=\"sk-toggleable__label sk-toggleable__label-arrow\">RandomForestRegressor</label><div class=\"sk-toggleable__content\"><pre>RandomForestRegressor(max_depth=15, max_features=&#x27;auto&#x27;, n_estimators=18,\n",
       "                      n_jobs=-1, random_state=452543634)</pre></div></div></div></div></div>"
      ],
      "text/plain": [
       "RandomForestRegressor(max_depth=15, max_features='auto', n_estimators=18,\n",
       "                      n_jobs=-1, random_state=452543634)"
      ]
     },
     "execution_count": 29,
     "metadata": {},
     "output_type": "execute_result"
    }
   ],
   "source": [
    "warnings.filterwarnings('ignore')\n",
    "\n",
    "RF_feature_model = RandomForestRegressor(n_estimators=N_ESTIMATORS, \n",
    "                                      random_state=RANDOM_STATE, \n",
    "                                      n_jobs=-1, \n",
    "                                      max_depth=15, \n",
    "                                      max_features='auto', \n",
    "                                      max_leaf_nodes=None, \n",
    "                                      bootstrap=True, oob_score=False)\n",
    "\n",
    "feature_converter = FeatureRep()\n",
    "\n",
    "RF_feature_model.fit(feature_converter.fit_transform(X_train_flattened), y_train_rolled)"
   ]
  },
  {
   "cell_type": "code",
   "execution_count": 30,
   "metadata": {},
   "outputs": [
    {
     "name": "stdout",
     "output_type": "stream",
     "text": [
      "Root mean squared error on valid: 0.019319994381268846\n",
      "Root mean squared error on valid inverse transformed from normalization: -0.29102836928174175\n"
     ]
    }
   ],
   "source": [
    "result = evaluate_model(RF_feature_model, feature_converter.fit_transform(X_valid_flattened), y_valid_rolled)"
   ]
  },
  {
   "cell_type": "code",
   "execution_count": 31,
   "metadata": {},
   "outputs": [],
   "source": [
    "import xgboost as xgb\n",
    "# If in trouble, use !pip install xgboost\n",
    "\n",
    "# XGBoost needs it's custom data format to run quickly\n",
    "dmatrix_train = xgb.DMatrix(data=X_train_flattened,label=y_train_rolled)\n",
    "dmatrix_valid = xgb.DMatrix(data=X_valid_flattened,label=y_valid_rolled)"
   ]
  },
  {
   "cell_type": "code",
   "execution_count": 32,
   "metadata": {},
   "outputs": [
    {
     "name": "stdout",
     "output_type": "stream",
     "text": [
      "[20:53:38] WARNING: /Users/runner/work/xgboost/xgboost/python-package/build/temp.macosx-11.0-arm64-cpython-38/xgboost/src/objective/regression_obj.cu:203: reg:linear is now deprecated in favor of reg:squarederror.\n",
      "[20:53:38] WARNING: /Users/runner/work/xgboost/xgboost/python-package/build/temp.macosx-11.0-arm64-cpython-38/xgboost/src/learner.cc:627: \n",
      "Parameters: { \"n_estimators\" } might not be used.\n",
      "\n",
      "  This could be a false alarm, with some parameters getting used by language bindings but\n",
      "  then being mistakenly passed down to XGBoost core, or some parameter actually being used\n",
      "  but getting flagged wrongly here. Please open an issue if you find any such cases.\n",
      "\n",
      "\n",
      "[0]\teval-rmse:0.02789\ttrain-rmse:0.03117\n",
      "[1]\teval-rmse:0.02311\ttrain-rmse:0.02693\n",
      "[2]\teval-rmse:0.02037\ttrain-rmse:0.02452\n",
      "[3]\teval-rmse:0.01887\ttrain-rmse:0.02323\n",
      "[4]\teval-rmse:0.01808\ttrain-rmse:0.02254\n"
     ]
    }
   ],
   "source": [
    "params = {'objective': 'reg:linear', 'eval_metric': 'rmse', 'n_estimators': 28}\n",
    "\n",
    "evallist = [(dmatrix_valid, 'eval'), (dmatrix_train, 'train')]\n",
    "\n",
    "num_round = 5 #Can easily overfit, experiment with it!\n",
    "\n",
    "xg_reg = xgb.train(params, dmatrix_train, num_boost_round=num_round, evals=evallist)"
   ]
  },
  {
   "cell_type": "code",
   "execution_count": 33,
   "metadata": {},
   "outputs": [
    {
     "name": "stdout",
     "output_type": "stream",
     "text": [
      "Root mean squared error on valid: 0.018080332434170027\n",
      "Root mean squared error on valid inverse transformed from normalization: -0.29173363453352136\n"
     ]
    }
   ],
   "source": [
    "result = evaluate_model(xg_reg, dmatrix_valid, y_valid_rolled)"
   ]
  },
  {
   "cell_type": "code",
   "execution_count": 34,
   "metadata": {},
   "outputs": [],
   "source": [
    "LSTM_CELL_SIZE = 10\n",
    "BATCH_SIZE = 88\n",
    "EPOCHS = 12\n",
    "DROPOUT_RATE = 0.28"
   ]
  },
  {
   "cell_type": "code",
   "execution_count": 35,
   "metadata": {},
   "outputs": [
    {
     "name": "stdout",
     "output_type": "stream",
     "text": [
      "Metal device set to: Apple M1\n"
     ]
    },
    {
     "name": "stderr",
     "output_type": "stream",
     "text": [
      "2022-10-31 20:53:41.958016: I tensorflow/core/common_runtime/pluggable_device/pluggable_device_factory.cc:306] Could not identify NUMA node of platform GPU ID 0, defaulting to 0. Your kernel may not have been built with NUMA support.\n",
      "2022-10-31 20:53:41.958586: I tensorflow/core/common_runtime/pluggable_device/pluggable_device_factory.cc:272] Created TensorFlow device (/job:localhost/replica:0/task:0/device:GPU:0 with 0 MB memory) -> physical PluggableDevice (device: 0, name: METAL, pci bus id: <undefined>)\n"
     ]
    },
    {
     "name": "stdout",
     "output_type": "stream",
     "text": [
      "Epoch 1/12\n"
     ]
    },
    {
     "name": "stderr",
     "output_type": "stream",
     "text": [
      "2022-10-31 20:53:42.275161: W tensorflow/core/platform/profile_utils/cpu_utils.cc:128] Failed to get CPU frequency: 0 Hz\n",
      "2022-10-31 20:53:42.803383: I tensorflow/core/grappler/optimizers/custom_graph_optimizer_registry.cc:114] Plugin optimizer for device_type GPU is enabled.\n",
      "2022-10-31 20:53:42.936022: I tensorflow/core/grappler/optimizers/custom_graph_optimizer_registry.cc:114] Plugin optimizer for device_type GPU is enabled.\n",
      "2022-10-31 20:53:43.142301: I tensorflow/core/grappler/optimizers/custom_graph_optimizer_registry.cc:114] Plugin optimizer for device_type GPU is enabled.\n"
     ]
    },
    {
     "name": "stdout",
     "output_type": "stream",
     "text": [
      "753/753 [==============================] - ETA: 0s - loss: 0.0660"
     ]
    },
    {
     "name": "stderr",
     "output_type": "stream",
     "text": [
      "2022-10-31 20:54:00.429229: I tensorflow/core/grappler/optimizers/custom_graph_optimizer_registry.cc:114] Plugin optimizer for device_type GPU is enabled.\n",
      "2022-10-31 20:54:00.475376: I tensorflow/core/grappler/optimizers/custom_graph_optimizer_registry.cc:114] Plugin optimizer for device_type GPU is enabled.\n"
     ]
    },
    {
     "name": "stdout",
     "output_type": "stream",
     "text": [
      "753/753 [==============================] - 20s 25ms/step - loss: 0.0660 - val_loss: 0.0024 - lr: 0.0010\n",
      "Epoch 2/12\n",
      "753/753 [==============================] - 18s 24ms/step - loss: 0.0069 - val_loss: 9.6208e-04 - lr: 0.0010\n",
      "Epoch 3/12\n",
      "753/753 [==============================] - 18s 24ms/step - loss: 0.0029 - val_loss: 5.9644e-04 - lr: 0.0010\n",
      "Epoch 4/12\n",
      "753/753 [==============================] - 18s 24ms/step - loss: 0.0015 - val_loss: 4.0605e-04 - lr: 0.0010\n",
      "Epoch 5/12\n",
      "753/753 [==============================] - 18s 24ms/step - loss: 8.9530e-04 - val_loss: 3.4984e-04 - lr: 0.0010\n",
      "Epoch 6/12\n",
      "753/753 [==============================] - 18s 24ms/step - loss: 6.3176e-04 - val_loss: 3.1322e-04 - lr: 0.0010\n",
      "Epoch 7/12\n",
      "753/753 [==============================] - 18s 24ms/step - loss: 5.4515e-04 - val_loss: 3.0043e-04 - lr: 0.0010\n",
      "Epoch 8/12\n",
      "753/753 [==============================] - 18s 24ms/step - loss: 5.1918e-04 - val_loss: 2.9848e-04 - lr: 0.0010\n",
      "Epoch 9/12\n",
      "753/753 [==============================] - 18s 24ms/step - loss: 5.1188e-04 - val_loss: 2.9986e-04 - lr: 0.0010\n",
      "Epoch 10/12\n",
      "753/753 [==============================] - 19s 25ms/step - loss: 5.0872e-04 - val_loss: 2.9863e-04 - lr: 0.0010\n",
      "Epoch 11/12\n",
      "753/753 [==============================] - 19s 25ms/step - loss: 5.0784e-04 - val_loss: 2.9867e-04 - lr: 9.0484e-04\n",
      "Epoch 12/12\n",
      "753/753 [==============================] - 18s 24ms/step - loss: 5.0586e-04 - val_loss: 3.0295e-04 - lr: 8.1873e-04\n"
     ]
    }
   ],
   "source": [
    "warnings.filterwarnings('ignore')\n",
    "\n",
    "column_count=len(X_train_norm.columns) #Remember,column count before rolling...\n",
    "\n",
    "be.clear_session()\n",
    "\n",
    "# You might very well be needing it!\n",
    "# Remeber to save only what is worth it from validation perspective...\n",
    "model_saver = ModelCheckpoint(filepath = '/tmp/checkpoint', monitor='val_loss', \n",
    "                              verbose=0, \n",
    "                              save_best_only=True,save_weights_only=True, \n",
    "                              mode='auto', save_freq='epoch', options=None)\n",
    "\n",
    "# If you need it...\n",
    "def schedule(epoch, lr):\n",
    "    if epoch < 10:\n",
    "        return lr\n",
    "    else:\n",
    "        return lr * exp(-0.1)\n",
    "\n",
    "lr_scheduler = LearningRateScheduler(schedule)\n",
    "\n",
    "# Build your whole LSTM model here!\n",
    "model = Sequential()\n",
    "model.add(LSTM(units = LSTM_CELL_SIZE, input_shape = (TIME_WINDOW, column_count)))\n",
    "model.add(Dropout(DROPOUT_RATE))\n",
    "model.add(Dense(1, activation = 'linear'))\n",
    "\n",
    "#For shape remeber, we have a variable defining the \"window\" and the features in the window...\n",
    "\n",
    "model.compile(loss='mean_squared_error', optimizer=Adam())\n",
    "# Fit on the train data\n",
    "# USE the batch size parameter!\n",
    "# Use validation data - warning, a tuple of stuff!\n",
    "# Epochs as deemed necessary...\n",
    "# You should avoid shuffling the data maybe.\n",
    "# You can use the callbacks for LR schedule or model saving as seems fit.\n",
    "history = model.fit(X_train_rolled, y_train_rolled, \n",
    "                    batch_size = BATCH_SIZE,\n",
    "                    validation_data = (X_valid_rolled, y_valid_rolled),\n",
    "                    epochs = EPOCHS, \n",
    "                    verbose = 1, \n",
    "                    callbacks =[model_saver, lr_scheduler])"
   ]
  },
  {
   "cell_type": "code",
   "execution_count": 36,
   "metadata": {},
   "outputs": [
    {
     "data": {
      "image/png": "[encoded data removed]",
      "text/plain": [
       "<Figure size 640x480 with 1 Axes>"
      ]
     },
     "metadata": {},
     "output_type": "display_data"
    }
   ],
   "source": [
    "plt.plot(history.history['loss'], label='train')\n",
    "plt.plot(history.history['val_loss'], label='test')\n",
    "plt.legend()\n",
    "plt.show()"
   ]
  },
  {
   "cell_type": "code",
   "execution_count": 37,
   "metadata": {},
   "outputs": [
    {
     "name": "stdout",
     "output_type": "stream",
     "text": [
      "  1/256 [..............................] - ETA: 1:07"
     ]
    },
    {
     "name": "stderr",
     "output_type": "stream",
     "text": [
      "2022-10-31 20:57:23.176391: I tensorflow/core/grappler/optimizers/custom_graph_optimizer_registry.cc:114] Plugin optimizer for device_type GPU is enabled.\n",
      "2022-10-31 20:57:23.217307: I tensorflow/core/grappler/optimizers/custom_graph_optimizer_registry.cc:114] Plugin optimizer for device_type GPU is enabled.\n"
     ]
    },
    {
     "name": "stdout",
     "output_type": "stream",
     "text": [
      "256/256 [==============================] - 3s 12ms/step\n",
      "Root mean squared error on valid: 0.017405355369747362\n",
      "Root mean squared error on valid inverse transformed from normalization: -0.29211764073004903\n"
     ]
    }
   ],
   "source": [
    "warnings.filterwarnings('ignore')\n",
    "\n",
    "result = evaluate_model(model, X_valid_rolled, y_valid_rolled)"
   ]
  }
 ],
 "metadata": {
  "kernelspec": {
   "display_name": "dl-mads",
   "language": "python",
   "name": "dl-mads"
  },
  "language_info": {
   "codemirror_mode": {
    "name": "ipython",
    "version": 3
   },
   "file_extension": ".py",
   "mimetype": "text/x-python",
   "name": "python",
   "nbconvert_exporter": "python",
   "pygments_lexer": "ipython3",
   "version": "3.10.6"
  },
  "vscode": {
   "interpreter": {
    "hash": "63d62219079c3093562b30b8d6a172d6a3e52b77aa011e5004353f10fba84dff"
   }
  }
 },
 "nbformat": 4,
 "nbformat_minor": 4
}
