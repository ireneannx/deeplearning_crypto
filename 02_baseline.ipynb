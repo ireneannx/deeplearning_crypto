{
 "cells": [
  {
   "cell_type": "code",
   "execution_count": 2,
   "id": "98be060d-703e-4662-848d-eacef992fdc3",
   "metadata": {},
   "outputs": [],
   "source": [
    "from sklearn.metrics import mean_squared_error\n",
    "from sklearn.dummy import DummyRegressor\n",
    "import numpy as np\n",
    "import pandas as pd"
   ]
  },
  {
   "cell_type": "code",
   "execution_count": 4,
   "id": "748a0475-12b0-4551-87fe-473c006430ec",
   "metadata": {},
   "outputs": [],
   "source": [
    "df_master = pd.read_json('daily_combined.json', orient ='split', compression = 'infer')"
   ]
  },
  {
   "cell_type": "code",
   "execution_count": 5,
   "id": "5862034d-7002-4fca-ba0f-3e4f8bf5c10f",
   "metadata": {},
   "outputs": [
    {
     "data": {
      "text/plain": [
       "2020    366\n",
       "2018    365\n",
       "2019    365\n",
       "2021    365\n",
       "2022    202\n",
       "2017    136\n",
       "dtype: int64"
      ]
     },
     "execution_count": 5,
     "metadata": {},
     "output_type": "execute_result"
    }
   ],
   "source": [
    "# takes the average for that specific cryptocurrency of the training set and returns that\n",
    "df_master.index.year.value_counts()\n",
    "# shows that the last year is 2022 which will be the test dataset "
   ]
  },
  {
   "cell_type": "code",
   "execution_count": 9,
   "id": "5e742f58-5172-446d-9a72-58783100baec",
   "metadata": {},
   "outputs": [
    {
     "name": "stdout",
     "output_type": "stream",
     "text": [
      "Train Dataset: (1597, 106)\n",
      "Test Dataset: (202, 106)\n"
     ]
    }
   ],
   "source": [
    "# create train test partition\n",
    "test  = df_master['2022-01-01':]\n",
    "train = df_master[:'2021-12-31']\n",
    "\n",
    "print('Train Dataset:',train.shape)\n",
    "print('Test Dataset:',test.shape)"
   ]
  },
  {
   "cell_type": "markdown",
   "id": "ddbb2965-e1e6-49c6-9705-3b2a1823c92a",
   "metadata": {},
   "source": [
    "## Naive Baseline"
   ]
  },
  {
   "cell_type": "code",
   "execution_count": 10,
   "id": "b2ef5696-e72a-41da-855a-895685fe8e97",
   "metadata": {},
   "outputs": [],
   "source": [
    "baseline_dict={}\n",
    "skipped_crypto=[] # list of cryptos with no data in train ds which need to be removed from test"
   ]
  },
  {
   "cell_type": "code",
   "execution_count": 11,
   "id": "f0ed4ede-b609-465a-a75c-7ee52b0df1f8",
   "metadata": {},
   "outputs": [],
   "source": [
    "for crypto in train.columns:\n",
    "    # calculate average\n",
    "    \n",
    "    mean_return = train[crypto].mean()\n",
    "    \n",
    "    # skip over cryptos that dont have 2022 data\n",
    "    if np.isnan(mean_return):\n",
    "        skipped_crypto.append(crypto)\n",
    "        continue\n",
    "    \n",
    "    \n",
    "    y_true = test[crypto].dropna()\n",
    "    y_pred = pd.Series(mean_return, index=range(y_true.shape[0]))\n",
    "    \n",
    "    #compute MSE\n",
    "    mse = mean_squared_error(y_true, y_pred)\n",
    "    \n",
    "    baseline_dict[crypto] = mse"
   ]
  },
  {
   "cell_type": "code",
   "execution_count": 12,
   "id": "b6d9195b-398f-41d1-b1c0-115e69d3a027",
   "metadata": {
    "collapsed": true,
    "jupyter": {
     "outputs_hidden": true
    },
    "tags": []
   },
   "outputs": [
    {
     "data": {
      "text/plain": [
       "{'ZILUSDT': 0.01226379825662325,\n",
       " 'CVXUSDT': 0.007142192016403001,\n",
       " 'DCRUSDT': 0.0029354713399354316,\n",
       " 'RUNEUSDT': 0.007875569671741614,\n",
       " 'THETAUSDT': 0.004309841306901933,\n",
       " 'BTCUSDT': 0.0013694831627563031,\n",
       " 'MANAUSDT': 0.0054629864871445,\n",
       " 'TRXUSDT': 0.0019476703710793815,\n",
       " 'STORJUSDT': 0.0059764258787936815,\n",
       " 'STXUSDT': 0.004028741410024981,\n",
       " 'LRCUSDT': 0.006306420475160082,\n",
       " 'AVAXUSDT': 0.004570315427457969,\n",
       " 'SOLUSDT': 0.00409411244845121,\n",
       " 'FTTUSDT': 0.0019104286716948547,\n",
       " 'BALUSDT': 0.003697496521275288,\n",
       " 'ENJUSDT': 0.0040077990697338535,\n",
       " 'SNXUSDT': 0.007839814368872005,\n",
       " 'IOTAUSDT': 0.002742513213817964,\n",
       " 'MATICUSDT': 0.004530090255711201,\n",
       " 'XMRUSDT': 0.0031952256406547917,\n",
       " 'SRMUSDT': 0.0039049056295866534,\n",
       " 'TWTUSDT': 0.00457225690253909,\n",
       " 'HBARUSDT': 0.002711983242664424,\n",
       " 'AMPUSDT': 0.0022701722016371744,\n",
       " 'QNTUSDT': 0.0033093762278626044,\n",
       " 'LTCUSDT': 0.002314690097055744,\n",
       " 'HIVEUSDT': 0.004497928350064133,\n",
       " 'MINAUSDT': 0.004342639459648053,\n",
       " 'XRPUSDT': 0.0020858238932844166,\n",
       " 'ZENUSDT': 0.004074349385678052,\n",
       " 'KAVAUSDT': 0.004689260728263322,\n",
       " 'OMGUSDT': 0.002951907478257053,\n",
       " 'ICPUSDT': 0.004415512722723149,\n",
       " 'ETHUSDT': 0.002270715550488438,\n",
       " 'QTUMUSDT': 0.002649599398755446,\n",
       " 'PAXGUSDT': 7.193591181190028e-05,\n",
       " 'TUSDUSDT': 1.4695793290955248e-07,\n",
       " 'BATUSDT': 0.0031942571931687326,\n",
       " 'WAXPUSDT': 0.003548240673297704,\n",
       " 'BNBUSDT': 0.0017612227491103662,\n",
       " 'ATOMUSDT': 0.0041783760058257255,\n",
       " 'EOSUSDT': 0.0022134109226225242,\n",
       " 'DOGEUSDT': 0.002843954478589608,\n",
       " 'AXSUSDT': 0.005432209968056712,\n",
       " 'NEARUSDT': 0.0055935130358843324,\n",
       " 'NEOUSDT': 0.0029828447404882993,\n",
       " 'DASHUSDT': 0.0027717335011308505,\n",
       " 'XLMUSDT': 0.0019530725272304172,\n",
       " 'CELOUSDT': 0.0037035363092434628,\n",
       " 'IOTXUSDT': 0.0054284514722640585,\n",
       " 'HOTUSDT': 0.003938828474452358,\n",
       " 'USDPUSDT': 1.1740704430122327e-07,\n",
       " 'VETUSDT': 0.0033202621940486786,\n",
       " 'ARUSDT': 0.005260796918133363,\n",
       " 'ROSEUSDT': 0.0055864301102363295,\n",
       " 'FTMUSDT': 0.0065732916100933415,\n",
       " 'BNXUSDT': 0.006386320043388692,\n",
       " 'SCUSDT': 0.0033847100833708926,\n",
       " 'ALGOUSDT': 0.0028568975578573573,\n",
       " 'ZRXUSDT': 0.005095119035264015,\n",
       " 'ICXUSDT': 0.004022701554597824,\n",
       " 'HNTUSDT': 0.004911773686789549,\n",
       " 'BTGUSDT': 0.0027397355637201162,\n",
       " 'KSMUSDT': 0.003420807780128463,\n",
       " 'SHIBUSDT': 0.004281816678158282,\n",
       " 'IOSTUSDT': 0.003198557184601475,\n",
       " 'EGLDUSDT': 0.003816893494664402,\n",
       " 'ADAUSDT': 0.0031374006134424507,\n",
       " 'LINKUSDT': 0.0032433660491977046,\n",
       " 'XECUSDT': 0.004339714017782242,\n",
       " 'RVNUSDT': 0.004136797976569209,\n",
       " 'LPTUSDT': 0.003909192496133173,\n",
       " 'JSTUSDT': 0.004170646646849782,\n",
       " 'UNIUSDT': 0.0036950646749768813,\n",
       " 'KNCUSDT': 0.006325058264750894,\n",
       " 'MKRUSDT': 0.003186586523680767,\n",
       " 'BCHUSDT': 0.0021830049021466804,\n",
       " '1INCHUSDT': 0.002855226943009985,\n",
       " 'DOTUSDT': 0.003155852527276015,\n",
       " 'XTZUSDT': 0.0031307794551189926,\n",
       " 'FILUSDT': 0.003260859911560359,\n",
       " 'FLOWUSDT': 0.0035140220463508744,\n",
       " 'ONTUSDT': 0.002749304034146129,\n",
       " 'YFIUSDT': 0.003769954148990694,\n",
       " 'AAVEUSDT': 0.005409974153510056,\n",
       " 'ETCUSDT': 0.0037183307922763454,\n",
       " 'COMPUSDT': 0.004481637640062278,\n",
       " 'CAKEUSDT': 0.0032405440099107954,\n",
       " 'ZECUSDT': 0.003751023816560847,\n",
       " 'SANDUSDT': 0.004632973886695662,\n",
       " 'ENSUSDT': 0.006525427456610073,\n",
       " 'KLAYUSDT': 0.002230676661778859,\n",
       " 'GRTUSDT': 0.004941510183552526,\n",
       " 'GALAUSDT': 0.00853285627835486,\n",
       " 'ONEUSDT': 0.005253823405334712,\n",
       " 'XEMUSDT': 0.0037317388537839833}"
      ]
     },
     "execution_count": 12,
     "metadata": {},
     "output_type": "execute_result"
    }
   ],
   "source": [
    "baseline_dict"
   ]
  },
  {
   "cell_type": "code",
   "execution_count": null,
   "id": "dd6f4c2a-7947-4002-9cc3-1486f8f26d72",
   "metadata": {},
   "outputs": [],
   "source": [
    "for crypto in train.columns:\n",
    "    # calculate average\n",
    "    \n",
    "    mean_baseline = DummyRegressor(strategy='mean')\n",
    "    \n",
    "    X = train[crypto]\n",
    "    mean_baseline.fit()\n",
    "    # skip over cryptos that dont have 2022 data\n",
    "    if np.isnan(mean_return):\n",
    "        skipped_crypto.append(crypto)\n",
    "        continue\n",
    "    \n",
    "    \n",
    "    y_true = test[crypto].dropna()\n",
    "    y_pred = pd.Series(mean_return, index=range(y_true.shape[0]))\n",
    "    \n",
    "    #compute MSE\n",
    "    mse = mean_squared_error(y_true, y_pred)\n",
    "    \n",
    "    baseline_dict[crypto] = mse"
   ]
  }
 ],
 "metadata": {
  "kernelspec": {
   "display_name": "Python 3 (ipykernel)",
   "language": "python",
   "name": "python3"
  },
  "language_info": {
   "codemirror_mode": {
    "name": "ipython",
    "version": 3
   },
   "file_extension": ".py",
   "mimetype": "text/x-python",
   "name": "python",
   "nbconvert_exporter": "python",
   "pygments_lexer": "ipython3",
   "version": "3.9.13"
  }
 },
 "nbformat": 4,
 "nbformat_minor": 5
}
